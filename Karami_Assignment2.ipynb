{
 "cells": [
  {
   "cell_type": "code",
   "execution_count": 1,
   "id": "33513e39",
   "metadata": {},
   "outputs": [],
   "source": [
    "import pandas as pd\n",
    "import matplotlib.pyplot as plt\n",
    "%matplotlib inline"
   ]
  },
  {
   "cell_type": "code",
   "execution_count": 7,
   "id": "08869a63",
   "metadata": {},
   "outputs": [],
   "source": [
    "cities = pd.read_csv('cities.csv', encoding='ISO-8859-1')\n",
    "customers = pd.read_csv('customers.csv', encoding='ISO-8859-1')\n",
    "item_master = pd.read_csv('item_master.csv', encoding='ISO-8859-1')\n",
    "sales_rep = pd.read_csv('sales_rep.csv', encoding='ISO-8859-1')\n",
    "sales = pd.read_csv('sales.csv', encoding='ISO-8859-1')"
   ]
  },
  {
   "cell_type": "code",
   "execution_count": 26,
   "id": "40e8f915",
   "metadata": {},
   "outputs": [
    {
     "data": {
      "text/plain": [
       "False"
      ]
     },
     "execution_count": 26,
     "metadata": {},
     "output_type": "execute_result"
    }
   ],
   "source": [
    "cities.duplicated().any()"
   ]
  },
  {
   "cell_type": "code",
   "execution_count": 27,
   "id": "8572ba5f",
   "metadata": {},
   "outputs": [
    {
     "data": {
      "text/plain": [
       "False"
      ]
     },
     "execution_count": 27,
     "metadata": {},
     "output_type": "execute_result"
    }
   ],
   "source": [
    "customers.duplicated().any()"
   ]
  },
  {
   "cell_type": "code",
   "execution_count": 28,
   "id": "950d7deb",
   "metadata": {},
   "outputs": [
    {
     "data": {
      "text/plain": [
       "False"
      ]
     },
     "execution_count": 28,
     "metadata": {},
     "output_type": "execute_result"
    }
   ],
   "source": [
    "item_master.duplicated().any()"
   ]
  },
  {
   "cell_type": "code",
   "execution_count": 29,
   "id": "b0da05a8",
   "metadata": {},
   "outputs": [
    {
     "data": {
      "text/plain": [
       "False"
      ]
     },
     "execution_count": 29,
     "metadata": {},
     "output_type": "execute_result"
    }
   ],
   "source": [
    "sales_rep.duplicated().any()"
   ]
  },
  {
   "cell_type": "code",
   "execution_count": 30,
   "id": "989c47d8",
   "metadata": {},
   "outputs": [
    {
     "data": {
      "text/plain": [
       "False"
      ]
     },
     "execution_count": 30,
     "metadata": {},
     "output_type": "execute_result"
    }
   ],
   "source": [
    "sales.duplicated().any()"
   ]
  },
  {
   "cell_type": "code",
   "execution_count": 32,
   "id": "31f07cb4",
   "metadata": {},
   "outputs": [
    {
     "data": {
      "text/plain": [
       "City         False\n",
       "City Code    False\n",
       "Region       False\n",
       "Latitude     False\n",
       "Longitude    False\n",
       "Desc          True\n",
       "dtype: bool"
      ]
     },
     "execution_count": 32,
     "metadata": {},
     "output_type": "execute_result"
    }
   ],
   "source": [
    "cities.isnull().any()"
   ]
  },
  {
   "cell_type": "code",
   "execution_count": 33,
   "id": "7efc57b4",
   "metadata": {},
   "outputs": [
    {
     "data": {
      "text/plain": [
       "Customer           False\n",
       "Customer Number    False\n",
       "City Code          False\n",
       "dtype: bool"
      ]
     },
     "execution_count": 33,
     "metadata": {},
     "output_type": "execute_result"
    }
   ],
   "source": [
    "customers.isnull().any()"
   ]
  },
  {
   "cell_type": "code",
   "execution_count": 34,
   "id": "b4190c21",
   "metadata": {},
   "outputs": [
    {
     "data": {
      "text/plain": [
       "Item Number          False\n",
       "Product Group        False\n",
       "Product Line         False\n",
       "Product Sub Group    False\n",
       "Product Type         False\n",
       "dtype: bool"
      ]
     },
     "execution_count": 34,
     "metadata": {},
     "output_type": "execute_result"
    }
   ],
   "source": [
    "item_master.isnull().any()"
   ]
  },
  {
   "cell_type": "code",
   "execution_count": 35,
   "id": "3a2d3ed4",
   "metadata": {},
   "outputs": [
    {
     "data": {
      "text/plain": [
       "Manager            False\n",
       "Manager Number     False\n",
       "Path               False\n",
       "Sales Rep Name     False\n",
       "Sales Rep Name1    False\n",
       "Sales Rep Name2     True\n",
       "Sales Rep Name3     True\n",
       "Sales Rep ID       False\n",
       "dtype: bool"
      ]
     },
     "execution_count": 35,
     "metadata": {},
     "output_type": "execute_result"
    }
   ],
   "source": [
    "sales_rep.isnull().any()"
   ]
  },
  {
   "cell_type": "code",
   "execution_count": 36,
   "id": "c11583bb",
   "metadata": {},
   "outputs": [
    {
     "data": {
      "text/plain": [
       "%KEY                      False\n",
       "Cost                      False\n",
       "Customer Number           False\n",
       "Date                      False\n",
       "GrossSales                False\n",
       "Invoice Date              False\n",
       "Invoice Number            False\n",
       "Item Desc                 False\n",
       "Item Number               False\n",
       "Margin                    False\n",
       "Order Number              False\n",
       "Promised Delivery Date    False\n",
       "Sales                     False\n",
       "Sales Qty                 False\n",
       "Sales Rep Number          False\n",
       "dtype: bool"
      ]
     },
     "execution_count": 36,
     "metadata": {},
     "output_type": "execute_result"
    }
   ],
   "source": [
    "sales.isnull().any()"
   ]
  },
  {
   "cell_type": "code",
   "execution_count": 43,
   "id": "0b683980",
   "metadata": {},
   "outputs": [
    {
     "data": {
      "text/html": [
       "<div>\n",
       "<style scoped>\n",
       "    .dataframe tbody tr th:only-of-type {\n",
       "        vertical-align: middle;\n",
       "    }\n",
       "\n",
       "    .dataframe tbody tr th {\n",
       "        vertical-align: top;\n",
       "    }\n",
       "\n",
       "    .dataframe thead th {\n",
       "        text-align: right;\n",
       "    }\n",
       "</style>\n",
       "<table border=\"1\" class=\"dataframe\">\n",
       "  <thead>\n",
       "    <tr style=\"text-align: right;\">\n",
       "      <th></th>\n",
       "      <th>City</th>\n",
       "      <th>City Code</th>\n",
       "      <th>Region</th>\n",
       "      <th>Latitude</th>\n",
       "      <th>Longitude</th>\n",
       "      <th>Desc</th>\n",
       "    </tr>\n",
       "  </thead>\n",
       "  <tbody>\n",
       "    <tr>\n",
       "      <th>0</th>\n",
       "      <td>New York</td>\n",
       "      <td>1</td>\n",
       "      <td>USA</td>\n",
       "      <td>40.730599</td>\n",
       "      <td>-73.986581</td>\n",
       "      <td>\"New York City, NY, US\"</td>\n",
       "    </tr>\n",
       "    <tr>\n",
       "      <th>1</th>\n",
       "      <td>Los Angeles</td>\n",
       "      <td>2</td>\n",
       "      <td>USA</td>\n",
       "      <td>34.053678</td>\n",
       "      <td>-118.242702</td>\n",
       "      <td>\"Los Angeles, Los Angeles County, CA, US\"</td>\n",
       "    </tr>\n",
       "    <tr>\n",
       "      <th>2</th>\n",
       "      <td>Chicago</td>\n",
       "      <td>3</td>\n",
       "      <td>USA</td>\n",
       "      <td>41.875555</td>\n",
       "      <td>-87.624421</td>\n",
       "      <td>\"Chicago, Cook County, IL, US\"</td>\n",
       "    </tr>\n",
       "    <tr>\n",
       "      <th>3</th>\n",
       "      <td>Houston</td>\n",
       "      <td>4</td>\n",
       "      <td>USA</td>\n",
       "      <td>29.981501</td>\n",
       "      <td>-95.538360</td>\n",
       "      <td>\"Houston, Harris County, TX, US\"</td>\n",
       "    </tr>\n",
       "    <tr>\n",
       "      <th>4</th>\n",
       "      <td>Philadelphia</td>\n",
       "      <td>5</td>\n",
       "      <td>USA</td>\n",
       "      <td>39.952335</td>\n",
       "      <td>-75.163789</td>\n",
       "      <td>\"Philadelphia, Philadelphia County, PA, US\"</td>\n",
       "    </tr>\n",
       "  </tbody>\n",
       "</table>\n",
       "</div>"
      ],
      "text/plain": [
       "           City  City Code Region   Latitude   Longitude  \\\n",
       "0      New York          1    USA  40.730599  -73.986581   \n",
       "1   Los Angeles          2    USA  34.053678 -118.242702   \n",
       "2       Chicago          3    USA  41.875555  -87.624421   \n",
       "3       Houston          4    USA  29.981501  -95.538360   \n",
       "4  Philadelphia          5    USA  39.952335  -75.163789   \n",
       "\n",
       "                                          Desc  \n",
       "0                      \"New York City, NY, US\"  \n",
       "1    \"Los Angeles, Los Angeles County, CA, US\"  \n",
       "2               \"Chicago, Cook County, IL, US\"  \n",
       "3             \"Houston, Harris County, TX, US\"  \n",
       "4  \"Philadelphia, Philadelphia County, PA, US\"  "
      ]
     },
     "execution_count": 43,
     "metadata": {},
     "output_type": "execute_result"
    }
   ],
   "source": [
    "cities.head()"
   ]
  },
  {
   "cell_type": "code",
   "execution_count": 38,
   "id": "aa599a20",
   "metadata": {},
   "outputs": [
    {
     "data": {
      "text/html": [
       "<div>\n",
       "<style scoped>\n",
       "    .dataframe tbody tr th:only-of-type {\n",
       "        vertical-align: middle;\n",
       "    }\n",
       "\n",
       "    .dataframe tbody tr th {\n",
       "        vertical-align: top;\n",
       "    }\n",
       "\n",
       "    .dataframe thead th {\n",
       "        text-align: right;\n",
       "    }\n",
       "</style>\n",
       "<table border=\"1\" class=\"dataframe\">\n",
       "  <thead>\n",
       "    <tr style=\"text-align: right;\">\n",
       "      <th></th>\n",
       "      <th>Customer</th>\n",
       "      <th>Customer Number</th>\n",
       "      <th>City Code</th>\n",
       "    </tr>\n",
       "  </thead>\n",
       "  <tbody>\n",
       "    <tr>\n",
       "      <th>0</th>\n",
       "      <td>A Superior System</td>\n",
       "      <td>10000453</td>\n",
       "      <td>1</td>\n",
       "    </tr>\n",
       "    <tr>\n",
       "      <th>1</th>\n",
       "      <td>A&amp;B</td>\n",
       "      <td>10000456</td>\n",
       "      <td>76</td>\n",
       "    </tr>\n",
       "    <tr>\n",
       "      <th>2</th>\n",
       "      <td>A&amp;G</td>\n",
       "      <td>10000457</td>\n",
       "      <td>2</td>\n",
       "    </tr>\n",
       "    <tr>\n",
       "      <th>3</th>\n",
       "      <td>A&amp;R Partners</td>\n",
       "      <td>10000458</td>\n",
       "      <td>43</td>\n",
       "    </tr>\n",
       "    <tr>\n",
       "      <th>4</th>\n",
       "      <td>A1 Datacom Supply</td>\n",
       "      <td>10000461</td>\n",
       "      <td>77</td>\n",
       "    </tr>\n",
       "  </tbody>\n",
       "</table>\n",
       "</div>"
      ],
      "text/plain": [
       "            Customer  Customer Number  City Code\n",
       "0  A Superior System         10000453          1\n",
       "1                A&B         10000456         76\n",
       "2                A&G         10000457          2\n",
       "3       A&R Partners         10000458         43\n",
       "4  A1 Datacom Supply         10000461         77"
      ]
     },
     "execution_count": 38,
     "metadata": {},
     "output_type": "execute_result"
    }
   ],
   "source": [
    "customers.head()"
   ]
  },
  {
   "cell_type": "code",
   "execution_count": 39,
   "id": "4ebdb6b8",
   "metadata": {},
   "outputs": [
    {
     "data": {
      "text/html": [
       "<div>\n",
       "<style scoped>\n",
       "    .dataframe tbody tr th:only-of-type {\n",
       "        vertical-align: middle;\n",
       "    }\n",
       "\n",
       "    .dataframe tbody tr th {\n",
       "        vertical-align: top;\n",
       "    }\n",
       "\n",
       "    .dataframe thead th {\n",
       "        text-align: right;\n",
       "    }\n",
       "</style>\n",
       "<table border=\"1\" class=\"dataframe\">\n",
       "  <thead>\n",
       "    <tr style=\"text-align: right;\">\n",
       "      <th></th>\n",
       "      <th>Item Number</th>\n",
       "      <th>Product Group</th>\n",
       "      <th>Product Line</th>\n",
       "      <th>Product Sub Group</th>\n",
       "      <th>Product Type</th>\n",
       "    </tr>\n",
       "  </thead>\n",
       "  <tbody>\n",
       "    <tr>\n",
       "      <th>0</th>\n",
       "      <td>10001</td>\n",
       "      <td>Beverages</td>\n",
       "      <td>Drink</td>\n",
       "      <td>Juice</td>\n",
       "      <td>Pure Juice Beverages</td>\n",
       "    </tr>\n",
       "    <tr>\n",
       "      <th>1</th>\n",
       "      <td>10002</td>\n",
       "      <td>Beverages</td>\n",
       "      <td>Drink</td>\n",
       "      <td>Flavored Drinks</td>\n",
       "      <td>Drinks</td>\n",
       "    </tr>\n",
       "    <tr>\n",
       "      <th>2</th>\n",
       "      <td>10003</td>\n",
       "      <td>Beverages</td>\n",
       "      <td>Drink</td>\n",
       "      <td>Flavored Drinks</td>\n",
       "      <td>Drinks</td>\n",
       "    </tr>\n",
       "    <tr>\n",
       "      <th>3</th>\n",
       "      <td>10004</td>\n",
       "      <td>Beverages</td>\n",
       "      <td>Drink</td>\n",
       "      <td>Soda</td>\n",
       "      <td>Carbonated Beverages</td>\n",
       "    </tr>\n",
       "    <tr>\n",
       "      <th>4</th>\n",
       "      <td>10005</td>\n",
       "      <td>Beverages</td>\n",
       "      <td>Drink</td>\n",
       "      <td>Soda</td>\n",
       "      <td>Carbonated Beverages</td>\n",
       "    </tr>\n",
       "  </tbody>\n",
       "</table>\n",
       "</div>"
      ],
      "text/plain": [
       "   Item Number Product Group Product Line Product Sub Group  \\\n",
       "0        10001     Beverages        Drink             Juice   \n",
       "1        10002     Beverages        Drink   Flavored Drinks   \n",
       "2        10003     Beverages        Drink   Flavored Drinks   \n",
       "3        10004     Beverages        Drink              Soda   \n",
       "4        10005     Beverages        Drink              Soda   \n",
       "\n",
       "           Product Type  \n",
       "0  Pure Juice Beverages  \n",
       "1                Drinks  \n",
       "2                Drinks  \n",
       "3  Carbonated Beverages  \n",
       "4  Carbonated Beverages  "
      ]
     },
     "execution_count": 39,
     "metadata": {},
     "output_type": "execute_result"
    }
   ],
   "source": [
    "item_master.head()"
   ]
  },
  {
   "cell_type": "code",
   "execution_count": 40,
   "id": "5163191e",
   "metadata": {},
   "outputs": [
    {
     "data": {
      "text/html": [
       "<div>\n",
       "<style scoped>\n",
       "    .dataframe tbody tr th:only-of-type {\n",
       "        vertical-align: middle;\n",
       "    }\n",
       "\n",
       "    .dataframe tbody tr th {\n",
       "        vertical-align: top;\n",
       "    }\n",
       "\n",
       "    .dataframe thead th {\n",
       "        text-align: right;\n",
       "    }\n",
       "</style>\n",
       "<table border=\"1\" class=\"dataframe\">\n",
       "  <thead>\n",
       "    <tr style=\"text-align: right;\">\n",
       "      <th></th>\n",
       "      <th>Manager</th>\n",
       "      <th>Manager Number</th>\n",
       "      <th>Path</th>\n",
       "      <th>Sales Rep Name</th>\n",
       "      <th>Sales Rep Name1</th>\n",
       "      <th>Sales Rep Name2</th>\n",
       "      <th>Sales Rep Name3</th>\n",
       "      <th>Sales Rep ID</th>\n",
       "    </tr>\n",
       "  </thead>\n",
       "  <tbody>\n",
       "    <tr>\n",
       "      <th>0</th>\n",
       "      <td>Amanda Honda</td>\n",
       "      <td>104</td>\n",
       "      <td>Amanda Honda-Amalia Craig</td>\n",
       "      <td>Amalia Craig</td>\n",
       "      <td>Amanda Honda</td>\n",
       "      <td>Amalia Craig</td>\n",
       "      <td>NaN</td>\n",
       "      <td>103</td>\n",
       "    </tr>\n",
       "    <tr>\n",
       "      <th>1</th>\n",
       "      <td>Amanda Honda</td>\n",
       "      <td>104</td>\n",
       "      <td>Amanda Honda-Cart Lynch</td>\n",
       "      <td>Cart Lynch</td>\n",
       "      <td>Amanda Honda</td>\n",
       "      <td>Cart Lynch</td>\n",
       "      <td>NaN</td>\n",
       "      <td>112</td>\n",
       "    </tr>\n",
       "    <tr>\n",
       "      <th>2</th>\n",
       "      <td>Amanda Honda</td>\n",
       "      <td>104</td>\n",
       "      <td>Amanda Honda-Molly McKenzie</td>\n",
       "      <td>Molly McKenzie</td>\n",
       "      <td>Amanda Honda</td>\n",
       "      <td>Molly McKenzie</td>\n",
       "      <td>NaN</td>\n",
       "      <td>159</td>\n",
       "    </tr>\n",
       "    <tr>\n",
       "      <th>3</th>\n",
       "      <td>Amanda Honda</td>\n",
       "      <td>104</td>\n",
       "      <td>Amanda Honda-Sheila Hein</td>\n",
       "      <td>Sheila Hein</td>\n",
       "      <td>Amanda Honda</td>\n",
       "      <td>Sheila Hein</td>\n",
       "      <td>NaN</td>\n",
       "      <td>176</td>\n",
       "    </tr>\n",
       "    <tr>\n",
       "      <th>4</th>\n",
       "      <td>Brenda Gibson</td>\n",
       "      <td>109</td>\n",
       "      <td>Brenda Gibson-Dennis Johnson</td>\n",
       "      <td>Dennis Johnson</td>\n",
       "      <td>Brenda Gibson</td>\n",
       "      <td>Dennis Johnson</td>\n",
       "      <td>NaN</td>\n",
       "      <td>121</td>\n",
       "    </tr>\n",
       "  </tbody>\n",
       "</table>\n",
       "</div>"
      ],
      "text/plain": [
       "         Manager  Manager Number                          Path  \\\n",
       "0   Amanda Honda             104     Amanda Honda-Amalia Craig   \n",
       "1   Amanda Honda             104       Amanda Honda-Cart Lynch   \n",
       "2   Amanda Honda             104   Amanda Honda-Molly McKenzie   \n",
       "3   Amanda Honda             104      Amanda Honda-Sheila Hein   \n",
       "4  Brenda Gibson             109  Brenda Gibson-Dennis Johnson   \n",
       "\n",
       "   Sales Rep Name Sales Rep Name1 Sales Rep Name2 Sales Rep Name3  \\\n",
       "0    Amalia Craig    Amanda Honda    Amalia Craig             NaN   \n",
       "1      Cart Lynch    Amanda Honda      Cart Lynch             NaN   \n",
       "2  Molly McKenzie    Amanda Honda  Molly McKenzie             NaN   \n",
       "3     Sheila Hein    Amanda Honda     Sheila Hein             NaN   \n",
       "4  Dennis Johnson   Brenda Gibson  Dennis Johnson             NaN   \n",
       "\n",
       "   Sales Rep ID  \n",
       "0           103  \n",
       "1           112  \n",
       "2           159  \n",
       "3           176  \n",
       "4           121  "
      ]
     },
     "execution_count": 40,
     "metadata": {},
     "output_type": "execute_result"
    }
   ],
   "source": [
    "sales_rep.head()"
   ]
  },
  {
   "cell_type": "code",
   "execution_count": 41,
   "id": "c810628e",
   "metadata": {},
   "outputs": [
    {
     "data": {
      "text/html": [
       "<div>\n",
       "<style scoped>\n",
       "    .dataframe tbody tr th:only-of-type {\n",
       "        vertical-align: middle;\n",
       "    }\n",
       "\n",
       "    .dataframe tbody tr th {\n",
       "        vertical-align: top;\n",
       "    }\n",
       "\n",
       "    .dataframe thead th {\n",
       "        text-align: right;\n",
       "    }\n",
       "</style>\n",
       "<table border=\"1\" class=\"dataframe\">\n",
       "  <thead>\n",
       "    <tr style=\"text-align: right;\">\n",
       "      <th></th>\n",
       "      <th>%KEY</th>\n",
       "      <th>Cost</th>\n",
       "      <th>Customer Number</th>\n",
       "      <th>Date</th>\n",
       "      <th>GrossSales</th>\n",
       "      <th>Invoice Date</th>\n",
       "      <th>Invoice Number</th>\n",
       "      <th>Item Desc</th>\n",
       "      <th>Item Number</th>\n",
       "      <th>Margin</th>\n",
       "      <th>Order Number</th>\n",
       "      <th>Promised Delivery Date</th>\n",
       "      <th>Sales</th>\n",
       "      <th>Sales Qty</th>\n",
       "      <th>Sales Rep Number</th>\n",
       "    </tr>\n",
       "  </thead>\n",
       "  <tbody>\n",
       "    <tr>\n",
       "      <th>0</th>\n",
       "      <td>3428</td>\n",
       "      <td>-513.15</td>\n",
       "      <td>10012226</td>\n",
       "      <td>1/12/2012</td>\n",
       "      <td>-573.3835</td>\n",
       "      <td>1/12/2012</td>\n",
       "      <td>318960</td>\n",
       "      <td>Cutting Edge Sliced Ham</td>\n",
       "      <td>10696</td>\n",
       "      <td>-37.29</td>\n",
       "      <td>115785</td>\n",
       "      <td>1/12/2012</td>\n",
       "      <td>-550.44</td>\n",
       "      <td>-1.0</td>\n",
       "      <td>180</td>\n",
       "    </tr>\n",
       "    <tr>\n",
       "      <th>1</th>\n",
       "      <td>3429</td>\n",
       "      <td>-105.93</td>\n",
       "      <td>10012226</td>\n",
       "      <td>1/12/2012</td>\n",
       "      <td>-204.6638</td>\n",
       "      <td>1/12/2012</td>\n",
       "      <td>318960</td>\n",
       "      <td>Washington Cranberry Juice</td>\n",
       "      <td>10009</td>\n",
       "      <td>-90.54</td>\n",
       "      <td>115785</td>\n",
       "      <td>1/12/2012</td>\n",
       "      <td>-196.47</td>\n",
       "      <td>-2.0</td>\n",
       "      <td>180</td>\n",
       "    </tr>\n",
       "    <tr>\n",
       "      <th>2</th>\n",
       "      <td>3430</td>\n",
       "      <td>-88.07</td>\n",
       "      <td>10012226</td>\n",
       "      <td>1/12/2012</td>\n",
       "      <td>-165.8016</td>\n",
       "      <td>1/12/2012</td>\n",
       "      <td>318960</td>\n",
       "      <td>Moms Sliced Ham</td>\n",
       "      <td>10385</td>\n",
       "      <td>-71.10</td>\n",
       "      <td>115785</td>\n",
       "      <td>1/12/2012</td>\n",
       "      <td>-159.17</td>\n",
       "      <td>-3.0</td>\n",
       "      <td>180</td>\n",
       "    </tr>\n",
       "    <tr>\n",
       "      <th>3</th>\n",
       "      <td>3431</td>\n",
       "      <td>-43.12</td>\n",
       "      <td>10012226</td>\n",
       "      <td>1/12/2012</td>\n",
       "      <td>-118.3703</td>\n",
       "      <td>1/12/2012</td>\n",
       "      <td>318960</td>\n",
       "      <td>Tip Top Lox</td>\n",
       "      <td>10215</td>\n",
       "      <td>-70.52</td>\n",
       "      <td>115785</td>\n",
       "      <td>1/12/2012</td>\n",
       "      <td>-113.64</td>\n",
       "      <td>-1.0</td>\n",
       "      <td>180</td>\n",
       "    </tr>\n",
       "    <tr>\n",
       "      <th>4</th>\n",
       "      <td>3432</td>\n",
       "      <td>-37.98</td>\n",
       "      <td>10012226</td>\n",
       "      <td>1/12/2012</td>\n",
       "      <td>-102.3319</td>\n",
       "      <td>1/12/2012</td>\n",
       "      <td>318960</td>\n",
       "      <td>Just Right Beef Soup</td>\n",
       "      <td>10965</td>\n",
       "      <td>-60.26</td>\n",
       "      <td>115785</td>\n",
       "      <td>1/12/2012</td>\n",
       "      <td>-98.24</td>\n",
       "      <td>-1.0</td>\n",
       "      <td>180</td>\n",
       "    </tr>\n",
       "  </tbody>\n",
       "</table>\n",
       "</div>"
      ],
      "text/plain": [
       "   %KEY    Cost  Customer Number       Date  GrossSales Invoice Date  \\\n",
       "0  3428 -513.15         10012226  1/12/2012   -573.3835    1/12/2012   \n",
       "1  3429 -105.93         10012226  1/12/2012   -204.6638    1/12/2012   \n",
       "2  3430  -88.07         10012226  1/12/2012   -165.8016    1/12/2012   \n",
       "3  3431  -43.12         10012226  1/12/2012   -118.3703    1/12/2012   \n",
       "4  3432  -37.98         10012226  1/12/2012   -102.3319    1/12/2012   \n",
       "\n",
       "   Invoice Number                   Item Desc  Item Number  Margin  \\\n",
       "0          318960     Cutting Edge Sliced Ham        10696  -37.29   \n",
       "1          318960  Washington Cranberry Juice        10009  -90.54   \n",
       "2          318960             Moms Sliced Ham        10385  -71.10   \n",
       "3          318960                 Tip Top Lox        10215  -70.52   \n",
       "4          318960        Just Right Beef Soup        10965  -60.26   \n",
       "\n",
       "   Order Number Promised Delivery Date   Sales  Sales Qty  Sales Rep Number  \n",
       "0        115785              1/12/2012 -550.44       -1.0               180  \n",
       "1        115785              1/12/2012 -196.47       -2.0               180  \n",
       "2        115785              1/12/2012 -159.17       -3.0               180  \n",
       "3        115785              1/12/2012 -113.64       -1.0               180  \n",
       "4        115785              1/12/2012  -98.24       -1.0               180  "
      ]
     },
     "execution_count": 41,
     "metadata": {},
     "output_type": "execute_result"
    }
   ],
   "source": [
    "sales.head()"
   ]
  },
  {
   "cell_type": "code",
   "execution_count": 44,
   "id": "6b88cb55",
   "metadata": {
    "scrolled": true
   },
   "outputs": [
    {
     "name": "stdout",
     "output_type": "stream",
     "text": [
      "<class 'pandas.core.frame.DataFrame'>\n",
      "RangeIndex: 100 entries, 0 to 99\n",
      "Data columns (total 6 columns):\n",
      " #   Column     Non-Null Count  Dtype  \n",
      "---  ------     --------------  -----  \n",
      " 0   City       100 non-null    object \n",
      " 1   City Code  100 non-null    int64  \n",
      " 2   Region     100 non-null    object \n",
      " 3   Latitude   100 non-null    float64\n",
      " 4   Longitude  100 non-null    float64\n",
      " 5   Desc       99 non-null     object \n",
      "dtypes: float64(2), int64(1), object(3)\n",
      "memory usage: 4.8+ KB\n"
     ]
    }
   ],
   "source": [
    "cities.info()"
   ]
  },
  {
   "cell_type": "code",
   "execution_count": 64,
   "id": "3a3e8433",
   "metadata": {},
   "outputs": [
    {
     "data": {
      "text/html": [
       "<div>\n",
       "<style scoped>\n",
       "    .dataframe tbody tr th:only-of-type {\n",
       "        vertical-align: middle;\n",
       "    }\n",
       "\n",
       "    .dataframe tbody tr th {\n",
       "        vertical-align: top;\n",
       "    }\n",
       "\n",
       "    .dataframe thead th {\n",
       "        text-align: right;\n",
       "    }\n",
       "</style>\n",
       "<table border=\"1\" class=\"dataframe\">\n",
       "  <thead>\n",
       "    <tr style=\"text-align: right;\">\n",
       "      <th></th>\n",
       "      <th>City</th>\n",
       "      <th>City Code</th>\n",
       "      <th>Region</th>\n",
       "      <th>Latitude</th>\n",
       "      <th>Longitude</th>\n",
       "      <th>Desc</th>\n",
       "    </tr>\n",
       "  </thead>\n",
       "  <tbody>\n",
       "    <tr>\n",
       "      <th>94</th>\n",
       "      <td>Yokohama</td>\n",
       "      <td>95</td>\n",
       "      <td>Japan</td>\n",
       "      <td>35.455592</td>\n",
       "      <td>139.572196</td>\n",
       "      <td>NaN</td>\n",
       "    </tr>\n",
       "  </tbody>\n",
       "</table>\n",
       "</div>"
      ],
      "text/plain": [
       "        City  City Code Region   Latitude   Longitude Desc\n",
       "94  Yokohama         95  Japan  35.455592  139.572196  NaN"
      ]
     },
     "execution_count": 64,
     "metadata": {},
     "output_type": "execute_result"
    }
   ],
   "source": [
    "cities.loc[cities['Desc'].isnull()]"
   ]
  },
  {
   "cell_type": "code",
   "execution_count": 68,
   "id": "ca8265ca",
   "metadata": {},
   "outputs": [],
   "source": [
    "cities['Desc'] = cities['Desc'].fillna(\"Yokohama, Kanagawa, Japan\")"
   ]
  },
  {
   "cell_type": "code",
   "execution_count": 69,
   "id": "637444ba",
   "metadata": {},
   "outputs": [
    {
     "name": "stdout",
     "output_type": "stream",
     "text": [
      "<class 'pandas.core.frame.DataFrame'>\n",
      "RangeIndex: 100 entries, 0 to 99\n",
      "Data columns (total 6 columns):\n",
      " #   Column     Non-Null Count  Dtype  \n",
      "---  ------     --------------  -----  \n",
      " 0   City       100 non-null    object \n",
      " 1   City Code  100 non-null    int64  \n",
      " 2   Region     100 non-null    object \n",
      " 3   Latitude   100 non-null    float64\n",
      " 4   Longitude  100 non-null    float64\n",
      " 5   Desc       100 non-null    object \n",
      "dtypes: float64(2), int64(1), object(3)\n",
      "memory usage: 4.8+ KB\n"
     ]
    }
   ],
   "source": [
    "cities.info()"
   ]
  },
  {
   "cell_type": "code",
   "execution_count": 49,
   "id": "1a4a102e",
   "metadata": {},
   "outputs": [
    {
     "name": "stdout",
     "output_type": "stream",
     "text": [
      "<class 'pandas.core.frame.DataFrame'>\n",
      "RangeIndex: 684 entries, 0 to 683\n",
      "Data columns (total 3 columns):\n",
      " #   Column           Non-Null Count  Dtype \n",
      "---  ------           --------------  ----- \n",
      " 0   Customer         684 non-null    object\n",
      " 1   Customer Number  684 non-null    int64 \n",
      " 2   City Code        684 non-null    int64 \n",
      "dtypes: int64(2), object(1)\n",
      "memory usage: 16.2+ KB\n"
     ]
    }
   ],
   "source": [
    "customers.info()"
   ]
  },
  {
   "cell_type": "code",
   "execution_count": 50,
   "id": "40283515",
   "metadata": {},
   "outputs": [
    {
     "name": "stdout",
     "output_type": "stream",
     "text": [
      "<class 'pandas.core.frame.DataFrame'>\n",
      "RangeIndex: 827 entries, 0 to 826\n",
      "Data columns (total 5 columns):\n",
      " #   Column             Non-Null Count  Dtype \n",
      "---  ------             --------------  ----- \n",
      " 0   Item Number        827 non-null    int64 \n",
      " 1   Product Group      827 non-null    object\n",
      " 2   Product Line       827 non-null    object\n",
      " 3   Product Sub Group  827 non-null    object\n",
      " 4   Product Type       827 non-null    object\n",
      "dtypes: int64(1), object(4)\n",
      "memory usage: 32.4+ KB\n"
     ]
    }
   ],
   "source": [
    "item_master.info()"
   ]
  },
  {
   "cell_type": "code",
   "execution_count": 51,
   "id": "581be941",
   "metadata": {},
   "outputs": [
    {
     "name": "stdout",
     "output_type": "stream",
     "text": [
      "<class 'pandas.core.frame.DataFrame'>\n",
      "RangeIndex: 64 entries, 0 to 63\n",
      "Data columns (total 8 columns):\n",
      " #   Column           Non-Null Count  Dtype \n",
      "---  ------           --------------  ----- \n",
      " 0   Manager          64 non-null     object\n",
      " 1   Manager Number   64 non-null     int64 \n",
      " 2   Path             64 non-null     object\n",
      " 3   Sales Rep Name   64 non-null     object\n",
      " 4   Sales Rep Name1  64 non-null     object\n",
      " 5   Sales Rep Name2  59 non-null     object\n",
      " 6   Sales Rep Name3  39 non-null     object\n",
      " 7   Sales Rep ID     64 non-null     int64 \n",
      "dtypes: int64(2), object(6)\n",
      "memory usage: 4.1+ KB\n"
     ]
    }
   ],
   "source": [
    "sales_rep.info()"
   ]
  },
  {
   "cell_type": "code",
   "execution_count": 74,
   "id": "989be8dd",
   "metadata": {},
   "outputs": [
    {
     "name": "stdout",
     "output_type": "stream",
     "text": [
      "<class 'pandas.core.frame.DataFrame'>\n",
      "RangeIndex: 64 entries, 0 to 63\n",
      "Data columns (total 8 columns):\n",
      " #   Column           Non-Null Count  Dtype \n",
      "---  ------           --------------  ----- \n",
      " 0   Manager          64 non-null     object\n",
      " 1   Manager Number   64 non-null     int64 \n",
      " 2   Path             64 non-null     object\n",
      " 3   Sales Rep Name   64 non-null     object\n",
      " 4   Sales Rep Name1  64 non-null     object\n",
      " 5   Sales Rep Name2  64 non-null     object\n",
      " 6   Sales Rep Name3  64 non-null     object\n",
      " 7   Sales Rep ID     64 non-null     int64 \n",
      "dtypes: int64(2), object(6)\n",
      "memory usage: 4.1+ KB\n"
     ]
    }
   ],
   "source": [
    "sales_rep = sales_rep.fillna('Unknown')\n",
    "sales_rep.info()"
   ]
  },
  {
   "cell_type": "code",
   "execution_count": 52,
   "id": "1dea25fc",
   "metadata": {},
   "outputs": [
    {
     "name": "stdout",
     "output_type": "stream",
     "text": [
      "<class 'pandas.core.frame.DataFrame'>\n",
      "RangeIndex: 96466 entries, 0 to 96465\n",
      "Data columns (total 15 columns):\n",
      " #   Column                  Non-Null Count  Dtype  \n",
      "---  ------                  --------------  -----  \n",
      " 0   %KEY                    96466 non-null  int64  \n",
      " 1   Cost                    96466 non-null  float64\n",
      " 2   Customer Number         96466 non-null  int64  \n",
      " 3   Date                    96466 non-null  object \n",
      " 4   GrossSales              96466 non-null  float64\n",
      " 5   Invoice Date            96466 non-null  object \n",
      " 6   Invoice Number          96466 non-null  int64  \n",
      " 7   Item Desc               96466 non-null  object \n",
      " 8   Item Number             96466 non-null  int64  \n",
      " 9   Margin                  96466 non-null  float64\n",
      " 10  Order Number            96466 non-null  int64  \n",
      " 11  Promised Delivery Date  96466 non-null  object \n",
      " 12  Sales                   96466 non-null  float64\n",
      " 13  Sales Qty               96466 non-null  float64\n",
      " 14  Sales Rep Number        96466 non-null  int64  \n",
      "dtypes: float64(5), int64(6), object(4)\n",
      "memory usage: 11.0+ MB\n"
     ]
    }
   ],
   "source": [
    "sales.info()"
   ]
  },
  {
   "cell_type": "code",
   "execution_count": 54,
   "id": "590314dd",
   "metadata": {},
   "outputs": [
    {
     "data": {
      "text/html": [
       "<div>\n",
       "<style scoped>\n",
       "    .dataframe tbody tr th:only-of-type {\n",
       "        vertical-align: middle;\n",
       "    }\n",
       "\n",
       "    .dataframe tbody tr th {\n",
       "        vertical-align: top;\n",
       "    }\n",
       "\n",
       "    .dataframe thead th {\n",
       "        text-align: right;\n",
       "    }\n",
       "</style>\n",
       "<table border=\"1\" class=\"dataframe\">\n",
       "  <thead>\n",
       "    <tr style=\"text-align: right;\">\n",
       "      <th></th>\n",
       "      <th>City Code</th>\n",
       "      <th>Latitude</th>\n",
       "      <th>Longitude</th>\n",
       "    </tr>\n",
       "  </thead>\n",
       "  <tbody>\n",
       "    <tr>\n",
       "      <th>count</th>\n",
       "      <td>100.000000</td>\n",
       "      <td>100.000000</td>\n",
       "      <td>100.000000</td>\n",
       "    </tr>\n",
       "    <tr>\n",
       "      <th>mean</th>\n",
       "      <td>50.500000</td>\n",
       "      <td>44.813257</td>\n",
       "      <td>-28.028824</td>\n",
       "    </tr>\n",
       "    <tr>\n",
       "      <th>std</th>\n",
       "      <td>29.011492</td>\n",
       "      <td>9.437991</td>\n",
       "      <td>67.404008</td>\n",
       "    </tr>\n",
       "    <tr>\n",
       "      <th>min</th>\n",
       "      <td>1.000000</td>\n",
       "      <td>25.774266</td>\n",
       "      <td>-122.674195</td>\n",
       "    </tr>\n",
       "    <tr>\n",
       "      <th>25%</th>\n",
       "      <td>25.750000</td>\n",
       "      <td>36.589686</td>\n",
       "      <td>-87.698940</td>\n",
       "    </tr>\n",
       "    <tr>\n",
       "      <th>50%</th>\n",
       "      <td>50.500000</td>\n",
       "      <td>42.354573</td>\n",
       "      <td>-3.188403</td>\n",
       "    </tr>\n",
       "    <tr>\n",
       "      <th>75%</th>\n",
       "      <td>75.250000</td>\n",
       "      <td>53.386865</td>\n",
       "      <td>7.764462</td>\n",
       "    </tr>\n",
       "    <tr>\n",
       "      <th>max</th>\n",
       "      <td>100.000000</td>\n",
       "      <td>64.145981</td>\n",
       "      <td>141.354460</td>\n",
       "    </tr>\n",
       "  </tbody>\n",
       "</table>\n",
       "</div>"
      ],
      "text/plain": [
       "        City Code    Latitude   Longitude\n",
       "count  100.000000  100.000000  100.000000\n",
       "mean    50.500000   44.813257  -28.028824\n",
       "std     29.011492    9.437991   67.404008\n",
       "min      1.000000   25.774266 -122.674195\n",
       "25%     25.750000   36.589686  -87.698940\n",
       "50%     50.500000   42.354573   -3.188403\n",
       "75%     75.250000   53.386865    7.764462\n",
       "max    100.000000   64.145981  141.354460"
      ]
     },
     "execution_count": 54,
     "metadata": {},
     "output_type": "execute_result"
    }
   ],
   "source": [
    "cities.describe()"
   ]
  },
  {
   "cell_type": "code",
   "execution_count": 55,
   "id": "d8d18dfa",
   "metadata": {},
   "outputs": [
    {
     "data": {
      "text/html": [
       "<div>\n",
       "<style scoped>\n",
       "    .dataframe tbody tr th:only-of-type {\n",
       "        vertical-align: middle;\n",
       "    }\n",
       "\n",
       "    .dataframe tbody tr th {\n",
       "        vertical-align: top;\n",
       "    }\n",
       "\n",
       "    .dataframe thead th {\n",
       "        text-align: right;\n",
       "    }\n",
       "</style>\n",
       "<table border=\"1\" class=\"dataframe\">\n",
       "  <thead>\n",
       "    <tr style=\"text-align: right;\">\n",
       "      <th></th>\n",
       "      <th>Customer Number</th>\n",
       "      <th>City Code</th>\n",
       "    </tr>\n",
       "  </thead>\n",
       "  <tbody>\n",
       "    <tr>\n",
       "      <th>count</th>\n",
       "      <td>6.840000e+02</td>\n",
       "      <td>684.000000</td>\n",
       "    </tr>\n",
       "    <tr>\n",
       "      <th>mean</th>\n",
       "      <td>1.001662e+07</td>\n",
       "      <td>49.833333</td>\n",
       "    </tr>\n",
       "    <tr>\n",
       "      <th>std</th>\n",
       "      <td>7.898470e+03</td>\n",
       "      <td>30.390504</td>\n",
       "    </tr>\n",
       "    <tr>\n",
       "      <th>min</th>\n",
       "      <td>1.000000e+07</td>\n",
       "      <td>1.000000</td>\n",
       "    </tr>\n",
       "    <tr>\n",
       "      <th>25%</th>\n",
       "      <td>1.001091e+07</td>\n",
       "      <td>23.000000</td>\n",
       "    </tr>\n",
       "    <tr>\n",
       "      <th>50%</th>\n",
       "      <td>1.001917e+07</td>\n",
       "      <td>48.000000</td>\n",
       "    </tr>\n",
       "    <tr>\n",
       "      <th>75%</th>\n",
       "      <td>1.002351e+07</td>\n",
       "      <td>74.000000</td>\n",
       "    </tr>\n",
       "    <tr>\n",
       "      <th>max</th>\n",
       "      <td>1.002763e+07</td>\n",
       "      <td>100.000000</td>\n",
       "    </tr>\n",
       "  </tbody>\n",
       "</table>\n",
       "</div>"
      ],
      "text/plain": [
       "       Customer Number   City Code\n",
       "count     6.840000e+02  684.000000\n",
       "mean      1.001662e+07   49.833333\n",
       "std       7.898470e+03   30.390504\n",
       "min       1.000000e+07    1.000000\n",
       "25%       1.001091e+07   23.000000\n",
       "50%       1.001917e+07   48.000000\n",
       "75%       1.002351e+07   74.000000\n",
       "max       1.002763e+07  100.000000"
      ]
     },
     "execution_count": 55,
     "metadata": {},
     "output_type": "execute_result"
    }
   ],
   "source": [
    "customers.describe()"
   ]
  },
  {
   "cell_type": "code",
   "execution_count": 56,
   "id": "112cdb2d",
   "metadata": {},
   "outputs": [
    {
     "data": {
      "text/html": [
       "<div>\n",
       "<style scoped>\n",
       "    .dataframe tbody tr th:only-of-type {\n",
       "        vertical-align: middle;\n",
       "    }\n",
       "\n",
       "    .dataframe tbody tr th {\n",
       "        vertical-align: top;\n",
       "    }\n",
       "\n",
       "    .dataframe thead th {\n",
       "        text-align: right;\n",
       "    }\n",
       "</style>\n",
       "<table border=\"1\" class=\"dataframe\">\n",
       "  <thead>\n",
       "    <tr style=\"text-align: right;\">\n",
       "      <th></th>\n",
       "      <th>Item Number</th>\n",
       "    </tr>\n",
       "  </thead>\n",
       "  <tbody>\n",
       "    <tr>\n",
       "      <th>count</th>\n",
       "      <td>827.000000</td>\n",
       "    </tr>\n",
       "    <tr>\n",
       "      <th>mean</th>\n",
       "      <td>10522.220073</td>\n",
       "    </tr>\n",
       "    <tr>\n",
       "      <th>std</th>\n",
       "      <td>310.710951</td>\n",
       "    </tr>\n",
       "    <tr>\n",
       "      <th>min</th>\n",
       "      <td>10001.000000</td>\n",
       "    </tr>\n",
       "    <tr>\n",
       "      <th>25%</th>\n",
       "      <td>10268.500000</td>\n",
       "    </tr>\n",
       "    <tr>\n",
       "      <th>50%</th>\n",
       "      <td>10534.000000</td>\n",
       "    </tr>\n",
       "    <tr>\n",
       "      <th>75%</th>\n",
       "      <td>10800.500000</td>\n",
       "    </tr>\n",
       "    <tr>\n",
       "      <th>max</th>\n",
       "      <td>11971.000000</td>\n",
       "    </tr>\n",
       "  </tbody>\n",
       "</table>\n",
       "</div>"
      ],
      "text/plain": [
       "        Item Number\n",
       "count    827.000000\n",
       "mean   10522.220073\n",
       "std      310.710951\n",
       "min    10001.000000\n",
       "25%    10268.500000\n",
       "50%    10534.000000\n",
       "75%    10800.500000\n",
       "max    11971.000000"
      ]
     },
     "execution_count": 56,
     "metadata": {},
     "output_type": "execute_result"
    }
   ],
   "source": [
    "item_master.describe()"
   ]
  },
  {
   "cell_type": "code",
   "execution_count": 57,
   "id": "6fc9b6bc",
   "metadata": {},
   "outputs": [
    {
     "data": {
      "text/html": [
       "<div>\n",
       "<style scoped>\n",
       "    .dataframe tbody tr th:only-of-type {\n",
       "        vertical-align: middle;\n",
       "    }\n",
       "\n",
       "    .dataframe tbody tr th {\n",
       "        vertical-align: top;\n",
       "    }\n",
       "\n",
       "    .dataframe thead th {\n",
       "        text-align: right;\n",
       "    }\n",
       "</style>\n",
       "<table border=\"1\" class=\"dataframe\">\n",
       "  <thead>\n",
       "    <tr style=\"text-align: right;\">\n",
       "      <th></th>\n",
       "      <th>Manager Number</th>\n",
       "      <th>Sales Rep ID</th>\n",
       "    </tr>\n",
       "  </thead>\n",
       "  <tbody>\n",
       "    <tr>\n",
       "      <th>count</th>\n",
       "      <td>64.000000</td>\n",
       "      <td>64.000000</td>\n",
       "    </tr>\n",
       "    <tr>\n",
       "      <th>mean</th>\n",
       "      <td>144.984375</td>\n",
       "      <td>143.515625</td>\n",
       "    </tr>\n",
       "    <tr>\n",
       "      <th>std</th>\n",
       "      <td>27.551679</td>\n",
       "      <td>25.038378</td>\n",
       "    </tr>\n",
       "    <tr>\n",
       "      <th>min</th>\n",
       "      <td>104.000000</td>\n",
       "      <td>103.000000</td>\n",
       "    </tr>\n",
       "    <tr>\n",
       "      <th>25%</th>\n",
       "      <td>118.000000</td>\n",
       "      <td>119.750000</td>\n",
       "    </tr>\n",
       "    <tr>\n",
       "      <th>50%</th>\n",
       "      <td>144.500000</td>\n",
       "      <td>144.500000</td>\n",
       "    </tr>\n",
       "    <tr>\n",
       "      <th>75%</th>\n",
       "      <td>169.000000</td>\n",
       "      <td>163.750000</td>\n",
       "    </tr>\n",
       "    <tr>\n",
       "      <th>max</th>\n",
       "      <td>185.000000</td>\n",
       "      <td>185.000000</td>\n",
       "    </tr>\n",
       "  </tbody>\n",
       "</table>\n",
       "</div>"
      ],
      "text/plain": [
       "       Manager Number  Sales Rep ID\n",
       "count       64.000000     64.000000\n",
       "mean       144.984375    143.515625\n",
       "std         27.551679     25.038378\n",
       "min        104.000000    103.000000\n",
       "25%        118.000000    119.750000\n",
       "50%        144.500000    144.500000\n",
       "75%        169.000000    163.750000\n",
       "max        185.000000    185.000000"
      ]
     },
     "execution_count": 57,
     "metadata": {},
     "output_type": "execute_result"
    }
   ],
   "source": [
    "sales_rep.describe()"
   ]
  },
  {
   "cell_type": "code",
   "execution_count": 58,
   "id": "13acdc06",
   "metadata": {},
   "outputs": [
    {
     "data": {
      "text/html": [
       "<div>\n",
       "<style scoped>\n",
       "    .dataframe tbody tr th:only-of-type {\n",
       "        vertical-align: middle;\n",
       "    }\n",
       "\n",
       "    .dataframe tbody tr th {\n",
       "        vertical-align: top;\n",
       "    }\n",
       "\n",
       "    .dataframe thead th {\n",
       "        text-align: right;\n",
       "    }\n",
       "</style>\n",
       "<table border=\"1\" class=\"dataframe\">\n",
       "  <thead>\n",
       "    <tr style=\"text-align: right;\">\n",
       "      <th></th>\n",
       "      <th>%KEY</th>\n",
       "      <th>Cost</th>\n",
       "      <th>Customer Number</th>\n",
       "      <th>GrossSales</th>\n",
       "      <th>Invoice Number</th>\n",
       "      <th>Item Number</th>\n",
       "      <th>Margin</th>\n",
       "      <th>Order Number</th>\n",
       "      <th>Sales</th>\n",
       "      <th>Sales Qty</th>\n",
       "      <th>Sales Rep Number</th>\n",
       "    </tr>\n",
       "  </thead>\n",
       "  <tbody>\n",
       "    <tr>\n",
       "      <th>count</th>\n",
       "      <td>96466.000000</td>\n",
       "      <td>96466.000000</td>\n",
       "      <td>9.646600e+04</td>\n",
       "      <td>96466.000000</td>\n",
       "      <td>96466.000000</td>\n",
       "      <td>96466.000000</td>\n",
       "      <td>96466.000000</td>\n",
       "      <td>96466.000000</td>\n",
       "      <td>96466.000000</td>\n",
       "      <td>96466.000000</td>\n",
       "      <td>96466.000000</td>\n",
       "    </tr>\n",
       "    <tr>\n",
       "      <th>mean</th>\n",
       "      <td>54715.166732</td>\n",
       "      <td>638.272186</td>\n",
       "      <td>1.001751e+07</td>\n",
       "      <td>1097.916246</td>\n",
       "      <td>213089.625339</td>\n",
       "      <td>10512.149856</td>\n",
       "      <td>448.377554</td>\n",
       "      <td>193854.617637</td>\n",
       "      <td>1086.939179</td>\n",
       "      <td>18.829146</td>\n",
       "      <td>137.341478</td>\n",
       "    </tr>\n",
       "    <tr>\n",
       "      <th>std</th>\n",
       "      <td>32130.384196</td>\n",
       "      <td>6435.093413</td>\n",
       "      <td>7.360265e+03</td>\n",
       "      <td>10243.399673</td>\n",
       "      <td>90626.900031</td>\n",
       "      <td>292.454663</td>\n",
       "      <td>3848.809989</td>\n",
       "      <td>73985.562829</td>\n",
       "      <td>10147.213456</td>\n",
       "      <td>293.555730</td>\n",
       "      <td>26.283149</td>\n",
       "    </tr>\n",
       "    <tr>\n",
       "      <th>min</th>\n",
       "      <td>1.000000</td>\n",
       "      <td>-9392.930000</td>\n",
       "      <td>1.000000e+07</td>\n",
       "      <td>-27929.875200</td>\n",
       "      <td>100001.000000</td>\n",
       "      <td>10001.000000</td>\n",
       "      <td>-27929.880000</td>\n",
       "      <td>100012.000000</td>\n",
       "      <td>-27929.880000</td>\n",
       "      <td>-1000.000000</td>\n",
       "      <td>103.000000</td>\n",
       "    </tr>\n",
       "    <tr>\n",
       "      <th>25%</th>\n",
       "      <td>26793.250000</td>\n",
       "      <td>13.280000</td>\n",
       "      <td>1.001242e+07</td>\n",
       "      <td>33.241525</td>\n",
       "      <td>118843.500000</td>\n",
       "      <td>10266.000000</td>\n",
       "      <td>16.410000</td>\n",
       "      <td>117828.500000</td>\n",
       "      <td>32.950000</td>\n",
       "      <td>1.000000</td>\n",
       "      <td>114.000000</td>\n",
       "    </tr>\n",
       "    <tr>\n",
       "      <th>50%</th>\n",
       "      <td>54144.500000</td>\n",
       "      <td>55.460000</td>\n",
       "      <td>1.001942e+07</td>\n",
       "      <td>114.010000</td>\n",
       "      <td>219354.000000</td>\n",
       "      <td>10522.500000</td>\n",
       "      <td>50.290000</td>\n",
       "      <td>206875.000000</td>\n",
       "      <td>112.655000</td>\n",
       "      <td>1.000000</td>\n",
       "      <td>132.000000</td>\n",
       "    </tr>\n",
       "    <tr>\n",
       "      <th>75%</th>\n",
       "      <td>82704.750000</td>\n",
       "      <td>180.540000</td>\n",
       "      <td>1.002352e+07</td>\n",
       "      <td>328.581400</td>\n",
       "      <td>312243.000000</td>\n",
       "      <td>10797.000000</td>\n",
       "      <td>139.500000</td>\n",
       "      <td>222532.750000</td>\n",
       "      <td>325.240000</td>\n",
       "      <td>3.000000</td>\n",
       "      <td>160.000000</td>\n",
       "    </tr>\n",
       "    <tr>\n",
       "      <th>max</th>\n",
       "      <td>110409.000000</td>\n",
       "      <td>366576.000000</td>\n",
       "      <td>1.002758e+07</td>\n",
       "      <td>539200.000000</td>\n",
       "      <td>332847.000000</td>\n",
       "      <td>11971.000000</td>\n",
       "      <td>202083.200000</td>\n",
       "      <td>326618.000000</td>\n",
       "      <td>555376.000000</td>\n",
       "      <td>16000.000000</td>\n",
       "      <td>185.000000</td>\n",
       "    </tr>\n",
       "  </tbody>\n",
       "</table>\n",
       "</div>"
      ],
      "text/plain": [
       "                %KEY           Cost  Customer Number     GrossSales  \\\n",
       "count   96466.000000   96466.000000     9.646600e+04   96466.000000   \n",
       "mean    54715.166732     638.272186     1.001751e+07    1097.916246   \n",
       "std     32130.384196    6435.093413     7.360265e+03   10243.399673   \n",
       "min         1.000000   -9392.930000     1.000000e+07  -27929.875200   \n",
       "25%     26793.250000      13.280000     1.001242e+07      33.241525   \n",
       "50%     54144.500000      55.460000     1.001942e+07     114.010000   \n",
       "75%     82704.750000     180.540000     1.002352e+07     328.581400   \n",
       "max    110409.000000  366576.000000     1.002758e+07  539200.000000   \n",
       "\n",
       "       Invoice Number   Item Number         Margin   Order Number  \\\n",
       "count    96466.000000  96466.000000   96466.000000   96466.000000   \n",
       "mean    213089.625339  10512.149856     448.377554  193854.617637   \n",
       "std      90626.900031    292.454663    3848.809989   73985.562829   \n",
       "min     100001.000000  10001.000000  -27929.880000  100012.000000   \n",
       "25%     118843.500000  10266.000000      16.410000  117828.500000   \n",
       "50%     219354.000000  10522.500000      50.290000  206875.000000   \n",
       "75%     312243.000000  10797.000000     139.500000  222532.750000   \n",
       "max     332847.000000  11971.000000  202083.200000  326618.000000   \n",
       "\n",
       "               Sales     Sales Qty  Sales Rep Number  \n",
       "count   96466.000000  96466.000000      96466.000000  \n",
       "mean     1086.939179     18.829146        137.341478  \n",
       "std     10147.213456    293.555730         26.283149  \n",
       "min    -27929.880000  -1000.000000        103.000000  \n",
       "25%        32.950000      1.000000        114.000000  \n",
       "50%       112.655000      1.000000        132.000000  \n",
       "75%       325.240000      3.000000        160.000000  \n",
       "max    555376.000000  16000.000000        185.000000  "
      ]
     },
     "execution_count": 58,
     "metadata": {},
     "output_type": "execute_result"
    }
   ],
   "source": [
    "sales.describe()"
   ]
  },
  {
   "cell_type": "code",
   "execution_count": null,
   "id": "d0774e45",
   "metadata": {},
   "outputs": [],
   "source": []
  }
 ],
 "metadata": {
  "kernelspec": {
   "display_name": "Python 3 (ipykernel)",
   "language": "python",
   "name": "python3"
  },
  "language_info": {
   "codemirror_mode": {
    "name": "ipython",
    "version": 3
   },
   "file_extension": ".py",
   "mimetype": "text/x-python",
   "name": "python",
   "nbconvert_exporter": "python",
   "pygments_lexer": "ipython3",
   "version": "3.9.13"
  }
 },
 "nbformat": 4,
 "nbformat_minor": 5
}
